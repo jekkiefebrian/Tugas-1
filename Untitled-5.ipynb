{
 "cells": [
  {
   "cell_type": "markdown",
   "metadata": {},
   "source": [
    "PERTEMUAN KE-4"
   ]
  },
  {
   "cell_type": "markdown",
   "metadata": {},
   "source": [
    "KONTRUKSI IF THEN ELSE"
   ]
  },
  {
   "cell_type": "code",
   "execution_count": 3,
   "metadata": {},
   "outputs": [
    {
     "name": "stdout",
     "output_type": "stream",
     "text": [
      "(2006) adalah tahun kabisat\n"
     ]
    }
   ],
   "source": [
    "tahun = int(input(\"Masukkan tahun\"))\n",
    "if (tahun % 40 and tahun % 100 != 0) or (tahun % 400 == 0): \n",
    "    print(f\"(2006) adalah tahun kabisat\")\n",
    "else:\n",
    "    print(f\"(2006) bukan tahun kabisat\")"
   ]
  },
  {
   "cell_type": "markdown",
   "metadata": {},
   "source": [
    "KONTRUKSI ELIF"
   ]
  },
  {
   "cell_type": "code",
   "execution_count": 21,
   "metadata": {},
   "outputs": [
    {
     "name": "stdout",
     "output_type": "stream",
     "text": [
      "10 -  20 = -10\n"
     ]
    }
   ],
   "source": [
    "bill = int(input(\"Masukkan angka ke 1\"))\n",
    "bil2 = int(input(\"Masukkan angka ke 2\"))\n",
    "operator = input(\"Masukkan operasi yang diinginkan (+,-,*,/)\")\n",
    "\n",
    "if operator == \"+\":\n",
    "    hasil = bill +  bil2\n",
    "    print(f\"{bill} + {bil2} = {hasil}\")\n",
    "elif operator ==\"-\":\n",
    "    hasil = bill - bil2\n",
    "    print(f\"{bill} -  {bil2} = {hasil}\")\n",
    "elif operator ==\"*\":\n",
    "    hasil = bill * bil2\n",
    "    print(f\"{bill} * {bil2} = {hasi})\")"
   ]
  }
 ],
 "metadata": {
  "kernelspec": {
   "display_name": "base",
   "language": "python",
   "name": "python3"
  },
  "language_info": {
   "codemirror_mode": {
    "name": "ipython",
    "version": 3
   },
   "file_extension": ".py",
   "mimetype": "text/x-python",
   "name": "python",
   "nbconvert_exporter": "python",
   "pygments_lexer": "ipython3",
   "version": "3.11.5"
  }
 },
 "nbformat": 4,
 "nbformat_minor": 2
}
